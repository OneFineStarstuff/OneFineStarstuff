{
  "nbformat": 4,
  "nbformat_minor": 0,
  "metadata": {
    "colab": {
      "private_outputs": true,
      "provenance": [],
      "authorship_tag": "ABX9TyN05ffFS0xuRcQOlkDzcdCB",
      "include_colab_link": true
    },
    "kernelspec": {
      "name": "python3",
      "display_name": "Python 3"
    },
    "language_info": {
      "name": "python"
    }
  },
  "cells": [
    {
      "cell_type": "markdown",
      "metadata": {
        "id": "view-in-github",
        "colab_type": "text"
      },
      "source": [
        "<a href=\"https://colab.research.google.com/github/OneFineStarstuff/OneFineStarstuff/blob/main/Using_a_pre_trained_model_like_BERT_for_analyzing_legal_text.ipynb\" target=\"_parent\"><img src=\"https://colab.research.google.com/assets/colab-badge.svg\" alt=\"Open In Colab\"/></a>"
      ]
    },
    {
      "cell_type": "code",
      "execution_count": null,
      "metadata": {
        "id": "q6x_Ls1id4xH"
      },
      "outputs": [],
      "source": [
        "from transformers import BertTokenizer, BertForSequenceClassification\n",
        "import torch\n",
        "import numpy as np\n",
        "\n",
        "def get_contract_text():\n",
        "    # Simulated function to fetch legal contract text\n",
        "    # In a real implementation, this would involve reading from an actual document\n",
        "    return [\"This contract is binding and must be adhered to by both parties.\", \"In case of disputes, arbitration will be sought.\"]\n",
        "\n",
        "def analyze_legal_text(text):\n",
        "    # Load pre-trained BERT model and tokenizer\n",
        "    model_name = \"nlpaueb/legal-bert-small-uncased\"\n",
        "    tokenizer = BertTokenizer.from_pretrained(model_name)\n",
        "    model = BertForSequenceClassification.from_pretrained(model_name)\n",
        "\n",
        "    # Tokenize and encode the text\n",
        "    inputs = tokenizer(text, return_tensors='pt', padding=True, truncation=True, max_length=512)\n",
        "\n",
        "    # Get model predictions\n",
        "    with torch.no_grad():\n",
        "        outputs = model(**inputs)\n",
        "    predictions = torch.nn.functional.softmax(outputs.logits, dim=-1)\n",
        "\n",
        "    # Convert predictions to readable labels (this part is hypothetical)\n",
        "    # Assume label 0: 'neutral', 1: 'positive', 2: 'negative'\n",
        "    labels = np.argmax(predictions.numpy(), axis=1)\n",
        "    label_map = {0: 'neutral', 1: 'positive', 2: 'negative'}\n",
        "    analysis_results = [label_map[label] for label in labels]\n",
        "\n",
        "    return analysis_results\n",
        "\n",
        "# Legal document analysis using a hybrid model\n",
        "legal_text = get_contract_text()\n",
        "analysis = analyze_legal_text(legal_text)\n",
        "print(\"Legal Document Analysis:\", analysis)"
      ]
    }
  ]
}
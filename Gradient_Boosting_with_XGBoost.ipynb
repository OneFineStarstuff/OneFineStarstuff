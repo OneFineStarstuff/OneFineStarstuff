{
  "nbformat": 4,
  "nbformat_minor": 0,
  "metadata": {
    "colab": {
      "private_outputs": true,
      "provenance": [],
      "authorship_tag": "ABX9TyN8y+QFVbQatVJZ1cACmfWp",
      "include_colab_link": true
    },
    "kernelspec": {
      "name": "python3",
      "display_name": "Python 3"
    },
    "language_info": {
      "name": "python"
    }
  },
  "cells": [
    {
      "cell_type": "markdown",
      "metadata": {
        "id": "view-in-github",
        "colab_type": "text"
      },
      "source": [
        "<a href=\"https://colab.research.google.com/github/OneFineStarstuff/OneFineStardust/blob/main/Gradient_Boosting_with_XGBoost.ipynb\" target=\"_parent\"><img src=\"https://colab.research.google.com/assets/colab-badge.svg\" alt=\"Open In Colab\"/></a>"
      ]
    },
    {
      "cell_type": "code",
      "execution_count": null,
      "metadata": {
        "id": "7dlIHxGfm_4j"
      },
      "outputs": [],
      "source": [
        "import numpy as np\n",
        "import xgboost as xgb\n",
        "from sklearn.datasets import load_iris\n",
        "from sklearn.model_selection import train_test_split\n",
        "\n",
        "# Load the Iris dataset (only use two classes for binary classification)\n",
        "iris = load_iris()\n",
        "X = iris.data[iris.target != 2]\n",
        "y = iris.target[iris.target != 2]\n",
        "\n",
        "# Split the dataset into training and testing sets\n",
        "X_train, X_test, y_train, y_test = train_test_split(X, y, test_size=0.3, random_state=42)\n",
        "\n",
        "# Create DMatrix for XGBoost training\n",
        "dtrain = xgb.DMatrix(X_train, label=y_train)\n",
        "dtest = xgb.DMatrix(X_test)\n",
        "\n",
        "# Set parameters for XGBoost model\n",
        "params = {\n",
        "    'objective': 'binary:logistic',\n",
        "    'max_depth': 3,\n",
        "    'eta': 0.1,\n",
        "    'seed': 42,\n",
        "}\n",
        "\n",
        "# Train the XGBoost model\n",
        "bst = xgb.train(params, dtrain, num_boost_round=100)\n",
        "\n",
        "# Make predictions on the test set\n",
        "preds = bst.predict(dtest)\n",
        "\n",
        "# Evaluate accuracy\n",
        "accuracy = np.mean((preds > 0.5) == y_test)\n",
        "print(\"Model Accuracy:\", accuracy)"
      ]
    }
  ]
}
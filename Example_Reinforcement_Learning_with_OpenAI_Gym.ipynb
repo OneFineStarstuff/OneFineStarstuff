{
  "nbformat": 4,
  "nbformat_minor": 0,
  "metadata": {
    "colab": {
      "private_outputs": true,
      "provenance": [],
      "authorship_tag": "ABX9TyM3+t5Zi4Ps5GO4w288+Wdw",
      "include_colab_link": true
    },
    "kernelspec": {
      "name": "python3",
      "display_name": "Python 3"
    },
    "language_info": {
      "name": "python"
    }
  },
  "cells": [
    {
      "cell_type": "markdown",
      "metadata": {
        "id": "view-in-github",
        "colab_type": "text"
      },
      "source": [
        "<a href=\"https://colab.research.google.com/github/OneFineStarstuff/OneFineStardust/blob/main/Example_Reinforcement_Learning_with_OpenAI_Gym.ipynb\" target=\"_parent\"><img src=\"https://colab.research.google.com/assets/colab-badge.svg\" alt=\"Open In Colab\"/></a>"
      ]
    },
    {
      "cell_type": "code",
      "source": [
        "pip install gym --upgrade"
      ],
      "metadata": {
        "id": "9qAijC0UWm8j"
      },
      "execution_count": null,
      "outputs": []
    },
    {
      "cell_type": "code",
      "execution_count": null,
      "metadata": {
        "id": "PnHlRS2BVzks"
      },
      "outputs": [],
      "source": [
        "import gym\n",
        "\n",
        "# Create a CartPole environment with the new API\n",
        "env = gym.make('CartPole-v1', render_mode='human')\n",
        "\n",
        "# Initialize variables\n",
        "num_episodes = 10\n",
        "\n",
        "for episode in range(num_episodes):\n",
        "    state = env.reset()[0]  # Reset the environment and get the initial state\n",
        "    done = False\n",
        "\n",
        "    while not done:\n",
        "        env.render()  # Render the environment\n",
        "        action = env.action_space.sample()  # Take a random action\n",
        "        state, reward, done, truncated, info = env.step(action)  # Take an action and get the result\n",
        "        done = done or truncated  # Combine done and truncated to check if the episode is finished\n",
        "\n",
        "env.close()"
      ]
    }
  ]
}
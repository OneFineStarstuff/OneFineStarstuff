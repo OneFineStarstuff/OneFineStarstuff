{
  "nbformat": 4,
  "nbformat_minor": 0,
  "metadata": {
    "colab": {
      "private_outputs": true,
      "provenance": [],
      "authorship_tag": "ABX9TyNwJYZgpGi1R8NnCHLrmP+e",
      "include_colab_link": true
    },
    "kernelspec": {
      "name": "python3",
      "display_name": "Python 3"
    },
    "language_info": {
      "name": "python"
    }
  },
  "cells": [
    {
      "cell_type": "markdown",
      "metadata": {
        "id": "view-in-github",
        "colab_type": "text"
      },
      "source": [
        "<a href=\"https://colab.research.google.com/github/OneFineStarstuff/OneFineStarstuff/blob/main/Example_Simulating_Supply_and_Demand_Curves.ipynb\" target=\"_parent\"><img src=\"https://colab.research.google.com/assets/colab-badge.svg\" alt=\"Open In Colab\"/></a>"
      ]
    },
    {
      "cell_type": "code",
      "execution_count": null,
      "metadata": {
        "id": "KPDoVtfmaPZc"
      },
      "outputs": [],
      "source": [
        "import numpy as np\n",
        "import matplotlib.pyplot as plt\n",
        "\n",
        "# Define the demand and supply functions\n",
        "def demand(p):\n",
        "    return 100 - 2 * p  # Demand decreases as price increases\n",
        "\n",
        "def supply(p):\n",
        "    return 3 * p  # Supply increases as price increases\n",
        "\n",
        "# Generate price values\n",
        "p = np.linspace(0, 50, 100)\n",
        "\n",
        "# Calculate quantity demanded and supplied\n",
        "q_demand = demand(p)\n",
        "q_supply = supply(p)\n",
        "\n",
        "# Plot the demand and supply curves\n",
        "plt.plot(p, q_demand, label='Demand')\n",
        "plt.plot(p, q_supply, label='Supply')\n",
        "plt.title(\"Supply and Demand Curves\")\n",
        "plt.xlabel(\"Price\")\n",
        "plt.ylabel(\"Quantity\")\n",
        "plt.legend()\n",
        "plt.grid(True)\n",
        "plt.show()"
      ]
    }
  ]
}
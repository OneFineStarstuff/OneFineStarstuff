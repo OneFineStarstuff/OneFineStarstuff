{
  "nbformat": 4,
  "nbformat_minor": 0,
  "metadata": {
    "colab": {
      "private_outputs": true,
      "provenance": [],
      "authorship_tag": "ABX9TyPUfk+7uynIo5Uu9B3dVu8v",
      "include_colab_link": true
    },
    "kernelspec": {
      "name": "python3",
      "display_name": "Python 3"
    },
    "language_info": {
      "name": "python"
    }
  },
  "cells": [
    {
      "cell_type": "markdown",
      "metadata": {
        "id": "view-in-github",
        "colab_type": "text"
      },
      "source": [
        "<a href=\"https://colab.research.google.com/github/OneFineStarstuff/OneFineStarstuff/blob/main/Reinforcement_Learning_(RL)_with_Deep_Q_Learning_for_Game_AI.ipynb\" target=\"_parent\"><img src=\"https://colab.research.google.com/assets/colab-badge.svg\" alt=\"Open In Colab\"/></a>"
      ]
    },
    {
      "cell_type": "code",
      "execution_count": null,
      "metadata": {
        "id": "2c90gv04AIvF"
      },
      "outputs": [],
      "source": [
        "import gym\n",
        "import torch\n",
        "import torch.nn as nn\n",
        "import torch.optim as optim\n",
        "import random\n",
        "import numpy as np\n",
        "\n",
        "# Define Q-network\n",
        "class QNetwork(nn.Module):\n",
        "    def __init__(self, state_dim, action_dim):\n",
        "        super(QNetwork, self).__init__()\n",
        "        self.fc1 = nn.Linear(state_dim, 128)\n",
        "        self.fc2 = nn.Linear(128, 128)\n",
        "        self.fc3 = nn.Linear(128, action_dim)\n",
        "\n",
        "    def forward(self, x):\n",
        "        x = torch.relu(self.fc1(x))\n",
        "        x = torch.relu(self.fc2(x))\n",
        "        return self.fc3(x)\n",
        "\n",
        "# Initialize environment, network, and optimizer\n",
        "env = gym.make(\"CartPole-v1\", new_step_api=True)\n",
        "state_dim = env.observation_space.shape[0]\n",
        "action_dim = env.action_space.n\n",
        "q_network = QNetwork(state_dim, action_dim)\n",
        "optimizer = optim.Adam(q_network.parameters(), lr=0.001)\n",
        "\n",
        "# Hyperparameters\n",
        "gamma = 0.99\n",
        "epsilon = 0.1\n",
        "episodes = 1000\n",
        "\n",
        "# Training loop\n",
        "for episode in range(episodes):\n",
        "    state_info = env.reset()\n",
        "    state = state_info[0] if isinstance(state_info, tuple) else state_info\n",
        "    done = False\n",
        "    while not done:\n",
        "        # Epsilon-greedy action selection\n",
        "        if random.random() < epsilon:\n",
        "            action = env.action_space.sample()\n",
        "        else:\n",
        "            with torch.no_grad():\n",
        "                action = torch.argmax(q_network(torch.tensor(state).float())).item()\n",
        "\n",
        "        # Perform action\n",
        "        next_state_info = env.step(action)\n",
        "        next_state = next_state_info[0]\n",
        "        reward = next_state_info[1]\n",
        "        terminated = next_state_info[2]\n",
        "        truncated = next_state_info[3]\n",
        "        done = terminated or truncated\n",
        "\n",
        "        # Update Q-network\n",
        "        target = reward + gamma * torch.max(q_network(torch.tensor(next_state).float()))\n",
        "        loss = nn.MSELoss()(q_network(torch.tensor(state).float())[action], target)\n",
        "        optimizer.zero_grad()\n",
        "        loss.backward()\n",
        "        optimizer.step()\n",
        "\n",
        "        state = next_state\n",
        "\n",
        "env.close()"
      ]
    }
  ]
}
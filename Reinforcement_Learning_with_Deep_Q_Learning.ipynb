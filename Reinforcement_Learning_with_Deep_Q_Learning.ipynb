{
  "nbformat": 4,
  "nbformat_minor": 0,
  "metadata": {
    "colab": {
      "private_outputs": true,
      "provenance": [],
      "authorship_tag": "ABX9TyOocdidU+8P/sSyiuI0gtuD",
      "include_colab_link": true
    },
    "kernelspec": {
      "name": "python3",
      "display_name": "Python 3"
    },
    "language_info": {
      "name": "python"
    }
  },
  "cells": [
    {
      "cell_type": "markdown",
      "metadata": {
        "id": "view-in-github",
        "colab_type": "text"
      },
      "source": [
        "<a href=\"https://colab.research.google.com/github/OneFineStarstuff/OneFineStardust/blob/main/Reinforcement_Learning_with_Deep_Q_Learning.ipynb\" target=\"_parent\"><img src=\"https://colab.research.google.com/assets/colab-badge.svg\" alt=\"Open In Colab\"/></a>"
      ]
    },
    {
      "cell_type": "code",
      "execution_count": null,
      "metadata": {
        "id": "kWomDtXz3hs0"
      },
      "outputs": [],
      "source": [
        "import numpy as np\n",
        "import gym\n",
        "import random\n",
        "from collections import deque\n",
        "from tensorflow.keras import Sequential\n",
        "from tensorflow.keras.layers import Dense\n",
        "from tensorflow.keras.optimizers import Adam\n",
        "\n",
        "# Create the environment\n",
        "env = gym.make('CartPole-v1')\n",
        "\n",
        "# Set parameters for the DQN\n",
        "state_size = env.observation_space.shape[0]\n",
        "action_size = env.action_space.n\n",
        "batch_size = 32\n",
        "\n",
        "# Build the DQN model\n",
        "def build_model():\n",
        "    model = Sequential()\n",
        "    model.add(Dense(24, input_dim=state_size, activation='relu'))\n",
        "    model.add(Dense(24, activation='relu'))\n",
        "    model.add(Dense(action_size, activation='linear'))\n",
        "    model.compile(loss='mse', optimizer=Adam(learning_rate=0.001))\n",
        "    return model\n",
        "\n",
        "model = build_model()\n",
        "memory = deque(maxlen=2000)\n",
        "\n",
        "# Training the DQN\n",
        "for e in range(1000):\n",
        "    state = env.reset()\n",
        "    done = False\n",
        "\n",
        "    while not done:\n",
        "        # Choose action based on epsilon-greedy policy\n",
        "        if np.random.rand() <= 0.1:  # Exploration\n",
        "            action = random.randrange(action_size)\n",
        "        else:  # Exploitation\n",
        "            q_values = model.predict(state.reshape(1, state_size))\n",
        "            action = np.argmax(q_values[0])\n",
        "\n",
        "        next_state, reward, done, _ = env.step(action)\n",
        "        memory.append((state, action, reward, next_state, done))\n",
        "\n",
        "        if len(memory) > batch_size:\n",
        "            minibatch = random.sample(memory, batch_size)\n",
        "            for m in minibatch:\n",
        "                s, a, r, s_next, d = m\n",
        "                target = r + (1 - d) * np.max(model.predict(s_next.reshape(1, state_size))[0])\n",
        "                target_f = model.predict(s.reshape(1, state_size))\n",
        "                target_f[0][a] = target\n",
        "                model.fit(s.reshape(1, state_size), target_f, epochs=1, verbose=0)\n",
        "\n",
        "        state = next_state\n",
        "\n",
        "    print(f\"Episode: {e+1}, Score: {reward}\")\n",
        "\n",
        "env.close()"
      ]
    }
  ]
}
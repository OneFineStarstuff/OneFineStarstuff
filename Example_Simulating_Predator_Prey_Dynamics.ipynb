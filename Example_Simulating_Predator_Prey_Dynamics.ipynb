{
  "nbformat": 4,
  "nbformat_minor": 0,
  "metadata": {
    "colab": {
      "private_outputs": true,
      "provenance": [],
      "authorship_tag": "ABX9TyOBkNoxJ57KVkUIq08AyTwY",
      "include_colab_link": true
    },
    "kernelspec": {
      "name": "python3",
      "display_name": "Python 3"
    },
    "language_info": {
      "name": "python"
    }
  },
  "cells": [
    {
      "cell_type": "markdown",
      "metadata": {
        "id": "view-in-github",
        "colab_type": "text"
      },
      "source": [
        "<a href=\"https://colab.research.google.com/github/OneFineStarstuff/OneFineStarstuff/blob/main/Example_Simulating_Predator_Prey_Dynamics.ipynb\" target=\"_parent\"><img src=\"https://colab.research.google.com/assets/colab-badge.svg\" alt=\"Open In Colab\"/></a>"
      ]
    },
    {
      "cell_type": "code",
      "execution_count": null,
      "metadata": {
        "id": "lxH8baSGdTx0"
      },
      "outputs": [],
      "source": [
        "import numpy as np\n",
        "import matplotlib.pyplot as plt\n",
        "from scipy.integrate import odeint\n",
        "\n",
        "# Define the Lotka-Volterra model equations\n",
        "def lotka_volterra(y, t, alpha, beta, delta, gamma):\n",
        "    prey, predator = y\n",
        "    dprey_dt = alpha * prey - beta * prey * predator\n",
        "    dpredator_dt = delta * prey * predator - gamma * predator\n",
        "    return [dprey_dt, dpredator_dt]\n",
        "\n",
        "# Parameters for the model\n",
        "alpha = 0.1  # Prey birth rate\n",
        "beta = 0.02  # Predation rate\n",
        "delta = 0.01  # Predator reproduction rate\n",
        "gamma = 0.1  # Predator death rate\n",
        "initial_prey = 40  # Initial prey population\n",
        "initial_predator = 9  # Initial predator population\n",
        "\n",
        "# Time array for simulation (200 time units)\n",
        "t = np.linspace(0, 200, 1000)\n",
        "\n",
        "# Solve the Lotka-Volterra equations\n",
        "solution = odeint(lotka_volterra, [initial_prey, initial_predator], t, args=(alpha, beta, delta, gamma))\n",
        "\n",
        "# Plot the predator-prey populations over time\n",
        "plt.plot(t, solution[:, 0], label='Prey')\n",
        "plt.plot(t, solution[:, 1], label='Predator')\n",
        "plt.title(\"Predator-Prey Population Dynamics (Lotka-Volterra Model)\")\n",
        "plt.xlabel(\"Time\")\n",
        "plt.ylabel(\"Population\")\n",
        "plt.legend()\n",
        "plt.grid(True)\n",
        "plt.show()"
      ]
    }
  ]
}
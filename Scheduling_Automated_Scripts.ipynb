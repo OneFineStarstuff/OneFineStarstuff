{
  "nbformat": 4,
  "nbformat_minor": 0,
  "metadata": {
    "colab": {
      "private_outputs": true,
      "provenance": [],
      "authorship_tag": "ABX9TyNjpNZFaEzY+2b5w4NasKrQ",
      "include_colab_link": true
    },
    "kernelspec": {
      "name": "python3",
      "display_name": "Python 3"
    },
    "language_info": {
      "name": "python"
    }
  },
  "cells": [
    {
      "cell_type": "markdown",
      "metadata": {
        "id": "view-in-github",
        "colab_type": "text"
      },
      "source": [
        "<a href=\"https://colab.research.google.com/github/OneFineStarstuff/OneFineStarstuff/blob/main/Scheduling_Automated_Scripts.ipynb\" target=\"_parent\"><img src=\"https://colab.research.google.com/assets/colab-badge.svg\" alt=\"Open In Colab\"/></a>"
      ]
    },
    {
      "cell_type": "code",
      "source": [
        "pip install schedule"
      ],
      "metadata": {
        "id": "tPOubDjnFFeB"
      },
      "execution_count": null,
      "outputs": []
    },
    {
      "cell_type": "code",
      "execution_count": null,
      "metadata": {
        "id": "jmxmH-GBE5Q7"
      },
      "outputs": [],
      "source": [
        "import schedule\n",
        "import time\n",
        "import subprocess\n",
        "import logging\n",
        "\n",
        "# Configure logging\n",
        "logging.basicConfig(filename='scheduler.log', level=logging.INFO)\n",
        "\n",
        "# Define the task\n",
        "def job():\n",
        "    logging.info(\"Running automated script...\")\n",
        "    try:\n",
        "        subprocess.run([\"python3\", \"my_script.py\"], check=True)\n",
        "        logging.info(\"Script executed successfully.\")\n",
        "    except subprocess.CalledProcessError as e:\n",
        "        logging.error(f\"An error occurred: {e}\")\n",
        "\n",
        "# Schedule the job every day at 10:30 AM\n",
        "schedule.every().day.at(\"10:30\").do(job)\n",
        "\n",
        "# Keep script running to check schedule\n",
        "while True:\n",
        "    schedule.run_pending()\n",
        "    time.sleep(1)"
      ]
    }
  ]
}
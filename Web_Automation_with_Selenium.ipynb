{
  "nbformat": 4,
  "nbformat_minor": 0,
  "metadata": {
    "colab": {
      "private_outputs": true,
      "provenance": [],
      "authorship_tag": "ABX9TyOwqfRdGt/VfVmF4OO6It6h",
      "include_colab_link": true
    },
    "kernelspec": {
      "name": "python3",
      "display_name": "Python 3"
    },
    "language_info": {
      "name": "python"
    }
  },
  "cells": [
    {
      "cell_type": "markdown",
      "metadata": {
        "id": "view-in-github",
        "colab_type": "text"
      },
      "source": [
        "<a href=\"https://colab.research.google.com/github/OneFineStarstuff/OneFineStarstuff/blob/main/Web_Automation_with_Selenium.ipynb\" target=\"_parent\"><img src=\"https://colab.research.google.com/assets/colab-badge.svg\" alt=\"Open In Colab\"/></a>"
      ]
    },
    {
      "cell_type": "code",
      "source": [
        "pip install selenium"
      ],
      "metadata": {
        "id": "SSxbeg9Q2iO8"
      },
      "execution_count": null,
      "outputs": []
    },
    {
      "cell_type": "code",
      "source": [
        "pip install --upgrade selenium"
      ],
      "metadata": {
        "id": "6IXxbSdG2-Oy"
      },
      "execution_count": null,
      "outputs": []
    },
    {
      "cell_type": "code",
      "source": [
        "!sudo apt-get install -y libnss3 libgconf-2-4"
      ],
      "metadata": {
        "id": "kV-3NR-n3E_4"
      },
      "execution_count": null,
      "outputs": []
    },
    {
      "cell_type": "code",
      "execution_count": null,
      "metadata": {
        "id": "3pyOpcp-2Tc8"
      },
      "outputs": [],
      "source": [
        "from selenium import webdriver\n",
        "from selenium.webdriver.common.by import By\n",
        "from selenium.webdriver.support.ui import WebDriverWait\n",
        "from selenium.webdriver.support import expected_conditions as EC\n",
        "from selenium.common.exceptions import TimeoutException, NoSuchElementException\n",
        "import time\n",
        "\n",
        "# Initialize WebDriver with options\n",
        "def initialize_driver():\n",
        "    options = webdriver.ChromeOptions()\n",
        "    options.add_argument(\"--start-maximized\")  # Start browser maximized\n",
        "    options.add_argument(\"--disable-infobars\")  # Disable infobars\n",
        "    options.add_argument(\"--headless\")  # Run in headless mode\n",
        "    options.add_argument(\"--no-sandbox\")  # Bypass OS security model\n",
        "    options.add_argument(\"--disable-dev-shm-usage\")  # Overcome limited resource problems\n",
        "\n",
        "    driver = webdriver.Chrome(options=options)\n",
        "    return driver\n",
        "\n",
        "# Open Website\n",
        "def open_website(driver, url):\n",
        "    driver.get(url)\n",
        "\n",
        "# Login Automation\n",
        "def login(driver, username, password):\n",
        "    try:\n",
        "        driver.find_element(By.ID, \"username\").send_keys(username)\n",
        "        driver.find_element(By.ID, \"password\").send_keys(password)\n",
        "        driver.find_element(By.ID, \"loginButton\").click()\n",
        "        print(\"Login successful.\")\n",
        "    except NoSuchElementException as e:\n",
        "        print(f\"Error during login: {e}\")\n",
        "\n",
        "# Perform Actions After Login\n",
        "def perform_action(driver):\n",
        "    try:\n",
        "        # Wait for a specific element to appear after login\n",
        "        element = WebDriverWait(driver, 10).until(\n",
        "            EC.presence_of_element_located((By.ID, \"targetElement\"))\n",
        "        )\n",
        "        element.click()\n",
        "        print(\"Clicked on target element.\")\n",
        "\n",
        "        # Wait for the download button and click it\n",
        "        download_button = WebDriverWait(driver, 10).until(\n",
        "            EC.element_to_be_clickable((By.CLASS_NAME, \"downloadBtn\"))\n",
        "        )\n",
        "        download_button.click()\n",
        "        print(\"Download initiated.\")\n",
        "\n",
        "        # Adding delay for download (this can be adjusted based on your needs)\n",
        "        time.sleep(5)\n",
        "\n",
        "    except TimeoutException:\n",
        "        print(\"Timed out waiting for an element.\")\n",
        "    except NoSuchElementException as e:\n",
        "        print(f\"Error during action performance: {e}\")\n",
        "    finally:\n",
        "        driver.quit()\n",
        "        print(\"Driver closed.\")\n",
        "\n",
        "# Main function to run the automation\n",
        "def main():\n",
        "    driver = initialize_driver()\n",
        "    open_website(driver, \"https://example.com\")\n",
        "\n",
        "    username = \"user123\"\n",
        "    password = \"securepassword\"\n",
        "\n",
        "    login(driver, username, password)\n",
        "    perform_action(driver)\n",
        "\n",
        "if __name__ == \"__main__\":\n",
        "    main()"
      ]
    }
  ]
}
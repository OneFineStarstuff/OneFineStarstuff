{
  "nbformat": 4,
  "nbformat_minor": 0,
  "metadata": {
    "colab": {
      "private_outputs": true,
      "provenance": [],
      "authorship_tag": "ABX9TyMmvGM6BtTGP/Rf4RQ4rD+S",
      "include_colab_link": true
    },
    "kernelspec": {
      "name": "python3",
      "display_name": "Python 3"
    },
    "language_info": {
      "name": "python"
    }
  },
  "cells": [
    {
      "cell_type": "markdown",
      "metadata": {
        "id": "view-in-github",
        "colab_type": "text"
      },
      "source": [
        "<a href=\"https://colab.research.google.com/github/OneFineStarstuff/OneFineStarstuff/blob/main/Continual_Learning_with_Elastic_Weight_Consolidation_(EWC).ipynb\" target=\"_parent\"><img src=\"https://colab.research.google.com/assets/colab-badge.svg\" alt=\"Open In Colab\"/></a>"
      ]
    },
    {
      "cell_type": "code",
      "execution_count": null,
      "metadata": {
        "id": "SfFANjzftbSD"
      },
      "outputs": [],
      "source": [
        "import torch\n",
        "import torch.nn as nn\n",
        "\n",
        "class EWC:\n",
        "    def __init__(self, model, data, importance=1000):\n",
        "        self.model = model\n",
        "        self.importance = importance\n",
        "        self.fisher_information = self.compute_fisher(data)\n",
        "        self.params = {name: param.clone() for name, param in model.named_parameters()}\n",
        "\n",
        "    def compute_fisher(self, data):\n",
        "        fisher_information = {}\n",
        "        self.model.eval()\n",
        "\n",
        "        for x, y in data:\n",
        "            self.model.zero_grad()\n",
        "            output = self.model(x)\n",
        "            loss = nn.CrossEntropyLoss()(output, y)\n",
        "            loss.backward()\n",
        "\n",
        "            for name, param in self.model.named_parameters():\n",
        "                if param.grad is not None:\n",
        "                    if name not in fisher_information:\n",
        "                        fisher_information[name] = param.grad.clone() ** 2\n",
        "                    else:\n",
        "                        fisher_information[name] += param.grad.clone() ** 2\n",
        "\n",
        "        # Average the Fisher information over all data points\n",
        "        for name in fisher_information:\n",
        "            fisher_information[name] /= len(data)\n",
        "\n",
        "        return fisher_information\n",
        "\n",
        "    def penalty(self, model):\n",
        "        loss = 0\n",
        "        for name, param in model.named_parameters():\n",
        "            fisher = self.fisher_information[name]\n",
        "            prev_param = self.params[name]\n",
        "            loss += (fisher * (param - prev_param) ** 2).sum()\n",
        "        return self.importance * loss\n",
        "\n",
        "# Example usage with a dummy model and data\n",
        "class DummyModel(nn.Module):\n",
        "    def __init__(self):\n",
        "        super(DummyModel, self).__init__()\n",
        "        self.fc = nn.Linear(10, 2)\n",
        "\n",
        "    def forward(self, x):\n",
        "        return self.fc(x)\n",
        "\n",
        "# Create dummy data\n",
        "dummy_data = [(torch.randn(1, 10), torch.tensor([0])) for _ in range(100)]\n",
        "\n",
        "# Initialize model and EWC\n",
        "model = DummyModel()\n",
        "ewc = EWC(model, dummy_data)\n",
        "\n",
        "# Compute penalty\n",
        "penalty_loss = ewc.penalty(model)\n",
        "print(\"EWC Penalty Loss:\", penalty_loss.item())"
      ]
    }
  ]
}
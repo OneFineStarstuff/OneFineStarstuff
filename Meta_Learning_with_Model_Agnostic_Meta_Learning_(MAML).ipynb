{
  "nbformat": 4,
  "nbformat_minor": 0,
  "metadata": {
    "colab": {
      "private_outputs": true,
      "provenance": [],
      "authorship_tag": "ABX9TyPDlN5Io+qzETY2N2k1qwPo",
      "include_colab_link": true
    },
    "kernelspec": {
      "name": "python3",
      "display_name": "Python 3"
    },
    "language_info": {
      "name": "python"
    }
  },
  "cells": [
    {
      "cell_type": "markdown",
      "metadata": {
        "id": "view-in-github",
        "colab_type": "text"
      },
      "source": [
        "<a href=\"https://colab.research.google.com/github/OneFineStarstuff/OneFineStardust/blob/main/Meta_Learning_with_Model_Agnostic_Meta_Learning_(MAML).ipynb\" target=\"_parent\"><img src=\"https://colab.research.google.com/assets/colab-badge.svg\" alt=\"Open In Colab\"/></a>"
      ]
    },
    {
      "cell_type": "code",
      "execution_count": null,
      "metadata": {
        "id": "Dw722GDw1EnY"
      },
      "outputs": [],
      "source": [
        "import torch\n",
        "from torch import nn, optim\n",
        "\n",
        "# Define a simple neural network\n",
        "class NeuralNet(nn.Module):\n",
        "    def __init__(self):\n",
        "        super(NeuralNet, self).__init__()\n",
        "        self.fc = nn.Linear(1, 1)\n",
        "\n",
        "    def forward(self, x):\n",
        "        return self.fc(x)\n",
        "\n",
        "# MAML setup\n",
        "def train_maml(model, tasks, inner_steps=1, outer_steps=1000, inner_lr=0.01, outer_lr=0.001):\n",
        "    outer_optimizer = optim.Adam(model.parameters(), lr=outer_lr)\n",
        "\n",
        "    for step in range(outer_steps):\n",
        "        meta_loss = 0\n",
        "        for x_train, y_train, x_test, y_test in tasks:\n",
        "            # Clone model for task-specific adaptation\n",
        "            temp_model = NeuralNet()\n",
        "            temp_model.load_state_dict(model.state_dict())\n",
        "            inner_optimizer = optim.SGD(temp_model.parameters(), lr=inner_lr)\n",
        "\n",
        "            # Inner loop (task-specific adaptation)\n",
        "            for _ in range(inner_steps):\n",
        "                y_pred = temp_model(x_train)\n",
        "                inner_loss = nn.MSELoss()(y_pred, y_train)\n",
        "                inner_optimizer.zero_grad()\n",
        "                inner_loss.backward()\n",
        "                inner_optimizer.step()\n",
        "\n",
        "            # Outer loop (meta-update)\n",
        "            y_pred = temp_model(x_test)\n",
        "            outer_loss = nn.MSELoss()(y_pred, y_test)\n",
        "            meta_loss += outer_loss\n",
        "\n",
        "        # Meta-optimization step\n",
        "        outer_optimizer.zero_grad()\n",
        "        meta_loss.backward()\n",
        "        outer_optimizer.step()\n",
        "        print(f'Step {step+1}/{outer_steps}, Meta Loss: {meta_loss.item()}')\n",
        "\n",
        "# Sample tasks for demonstration purposes\n",
        "tasks = [\n",
        "    (torch.randn(10, 1), torch.randn(10, 1), torch.randn(10, 1), torch.randn(10, 1)),\n",
        "    (torch.randn(10, 1), torch.randn(10, 1), torch.randn(10, 1), torch.randn(10, 1)),\n",
        "    (torch.randn(10, 1), torch.randn(10, 1), torch.randn(10, 1), torch.randn(10, 1))\n",
        "]\n",
        "\n",
        "model = NeuralNet()\n",
        "train_maml(model, tasks)"
      ]
    }
  ]
}
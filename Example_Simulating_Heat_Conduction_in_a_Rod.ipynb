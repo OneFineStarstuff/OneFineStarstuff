{
  "nbformat": 4,
  "nbformat_minor": 0,
  "metadata": {
    "colab": {
      "private_outputs": true,
      "provenance": [],
      "authorship_tag": "ABX9TyNI77C3kVoYohOSbW7VTwx5",
      "include_colab_link": true
    },
    "kernelspec": {
      "name": "python3",
      "display_name": "Python 3"
    },
    "language_info": {
      "name": "python"
    }
  },
  "cells": [
    {
      "cell_type": "markdown",
      "metadata": {
        "id": "view-in-github",
        "colab_type": "text"
      },
      "source": [
        "<a href=\"https://colab.research.google.com/github/OneFineStarstuff/OneFineStarstuff/blob/main/Example_Simulating_Heat_Conduction_in_a_Rod.ipynb\" target=\"_parent\"><img src=\"https://colab.research.google.com/assets/colab-badge.svg\" alt=\"Open In Colab\"/></a>"
      ]
    },
    {
      "cell_type": "code",
      "source": [
        "pip install fipy"
      ],
      "metadata": {
        "id": "WTRGH9HyZ5NT"
      },
      "execution_count": null,
      "outputs": []
    },
    {
      "cell_type": "code",
      "execution_count": null,
      "metadata": {
        "id": "nMScMmd-ZeIe"
      },
      "outputs": [],
      "source": [
        "from fipy import CellVariable, Grid1D, DiffusionTerm\n",
        "import numpy as np\n",
        "import matplotlib.pyplot as plt\n",
        "\n",
        "# Create a 1D grid of length 10 with 100 cells\n",
        "mesh = Grid1D(nx=100, dx=0.1)\n",
        "\n",
        "# Create a variable to represent temperature\n",
        "temperature = CellVariable(name=\"Temperature\", mesh=mesh, value=300.0)\n",
        "\n",
        "# Apply boundary conditions: fixed temperature at both ends\n",
        "temperature.constrain(500.0, mesh.facesLeft)\n",
        "temperature.constrain(300.0, mesh.facesRight)\n",
        "\n",
        "# Define the heat conduction equation\n",
        "eq = DiffusionTerm(coeff=1.0)\n",
        "\n",
        "# Solve the equation over time (simple forward time-stepping)\n",
        "for step in range(100):\n",
        "    eq.solve(var=temperature, dt=0.01)\n",
        "\n",
        "# Plot the temperature distribution\n",
        "plt.plot(np.linspace(0, 10, 100), temperature.value)\n",
        "plt.xlabel(\"Position along the rod\")\n",
        "plt.ylabel(\"Temperature\")\n",
        "plt.title(\"Heat Conduction Simulation\")\n",
        "plt.show()"
      ]
    }
  ]
}
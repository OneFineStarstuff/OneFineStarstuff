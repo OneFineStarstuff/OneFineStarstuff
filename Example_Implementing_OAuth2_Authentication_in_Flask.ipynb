{
  "nbformat": 4,
  "nbformat_minor": 0,
  "metadata": {
    "colab": {
      "private_outputs": true,
      "provenance": [],
      "authorship_tag": "ABX9TyMCAh0z1dl9pPn1Mvx/0oCf",
      "include_colab_link": true
    },
    "kernelspec": {
      "name": "python3",
      "display_name": "Python 3"
    },
    "language_info": {
      "name": "python"
    }
  },
  "cells": [
    {
      "cell_type": "markdown",
      "metadata": {
        "id": "view-in-github",
        "colab_type": "text"
      },
      "source": [
        "<a href=\"https://colab.research.google.com/github/OneFineStarstuff/OneFineStardust/blob/main/Example_Implementing_OAuth2_Authentication_in_Flask.ipynb\" target=\"_parent\"><img src=\"https://colab.research.google.com/assets/colab-badge.svg\" alt=\"Open In Colab\"/></a>"
      ]
    },
    {
      "cell_type": "code",
      "source": [
        "pip install authlib"
      ],
      "metadata": {
        "id": "r_PqJALrv7ha"
      },
      "execution_count": null,
      "outputs": []
    },
    {
      "cell_type": "code",
      "execution_count": null,
      "metadata": {
        "id": "l92JS9AWiUB7"
      },
      "outputs": [],
      "source": [
        "from flask import Flask, redirect, url_for, session\n",
        "from authlib.integrations.flask_client import OAuth\n",
        "import os\n",
        "\n",
        "app = Flask(__name__)\n",
        "app.secret_key = os.urandom(24)  # Replace with your own secret key\n",
        "\n",
        "oauth = OAuth(app)\n",
        "oauth.register(\n",
        "    name='google',\n",
        "    client_id='YOUR_GOOGLE_CLIENT_ID',  # Replace with your client ID\n",
        "    client_secret='YOUR_GOOGLE_CLIENT_SECRET',  # Replace with your client secret\n",
        "    authorize_url='https://accounts.google.com/o/oauth2/auth',\n",
        "    authorize_params=None,\n",
        "    access_token_url='https://accounts.google.com/o/oauth2/token',\n",
        "    access_token_params=None,\n",
        "    refresh_token_url=None,\n",
        "    client_kwargs={'scope': 'openid profile email'},\n",
        "    server_metadata_url='https://accounts.google.com/.well-known/openid-configuration'\n",
        ")\n",
        "\n",
        "@app.route('/')\n",
        "def index():\n",
        "    return 'Welcome to the OAuth2 example!'\n",
        "\n",
        "@app.route('/login')\n",
        "def login():\n",
        "    redirect_uri = url_for('authorize', _external=True)\n",
        "    return oauth.google.authorize_redirect(redirect_uri)\n",
        "\n",
        "@app.route('/logout')\n",
        "def logout():\n",
        "    for key in list(session.keys()):\n",
        "        session.pop(key)\n",
        "    return 'You have been logged out.'\n",
        "\n",
        "@app.route('/login/authorize')\n",
        "def authorize():\n",
        "    token = oauth.google.authorize_access_token()\n",
        "    user_info = oauth.google.parse_id_token(token)\n",
        "\n",
        "    return 'Logged in as: ' + user_info['email']\n",
        "\n",
        "if __name__ == '__main__':\n",
        "    app.run(debug=True)"
      ]
    }
  ]
}
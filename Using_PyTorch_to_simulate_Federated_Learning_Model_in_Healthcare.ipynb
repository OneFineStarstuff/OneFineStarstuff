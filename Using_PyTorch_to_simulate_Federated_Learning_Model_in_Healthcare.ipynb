{
  "nbformat": 4,
  "nbformat_minor": 0,
  "metadata": {
    "colab": {
      "private_outputs": true,
      "provenance": [],
      "authorship_tag": "ABX9TyMGlnmCdOlehGTB7TZ/fA5y",
      "include_colab_link": true
    },
    "kernelspec": {
      "name": "python3",
      "display_name": "Python 3"
    },
    "language_info": {
      "name": "python"
    }
  },
  "cells": [
    {
      "cell_type": "markdown",
      "metadata": {
        "id": "view-in-github",
        "colab_type": "text"
      },
      "source": [
        "<a href=\"https://colab.research.google.com/github/OneFineStarstuff/OneFineStarstuff/blob/main/Using_PyTorch_to_simulate_Federated_Learning_Model_in_Healthcare.ipynb\" target=\"_parent\"><img src=\"https://colab.research.google.com/assets/colab-badge.svg\" alt=\"Open In Colab\"/></a>"
      ]
    },
    {
      "cell_type": "code",
      "execution_count": null,
      "metadata": {
        "id": "R5wHvdWSfwXx"
      },
      "outputs": [],
      "source": [
        "import torch\n",
        "import torch.nn as nn\n",
        "import torch.optim as optim\n",
        "\n",
        "# Define a simple neural network\n",
        "class SimpleNN(nn.Module):\n",
        "    def __init__(self):\n",
        "        super(SimpleNN, self).__init__()\n",
        "        self.fc1 = nn.Linear(10, 50)\n",
        "        self.fc2 = nn.Linear(50, 1)\n",
        "\n",
        "    def forward(self, x):\n",
        "        x = torch.relu(self.fc1(x))\n",
        "        x = torch.sigmoid(self.fc2(x))\n",
        "        return x\n",
        "\n",
        "# Function to fetch simulated hospital data\n",
        "def get_encrypted_hospital_data():\n",
        "    data = torch.randn(100, 10)  # 100 samples, 10 features each\n",
        "    targets = torch.randint(0, 2, (100,))  # Binary targets for classification\n",
        "    return data, targets\n",
        "\n",
        "# Function to split data among workers\n",
        "def split_data(data, targets, n_workers):\n",
        "    data_split = torch.chunk(data, n_workers)\n",
        "    targets_split = torch.chunk(targets, n_workers)\n",
        "    return list(zip(data_split, targets_split))\n",
        "\n",
        "# Federated learning function\n",
        "def train_federated_model(data_splits, model):\n",
        "    criterion = nn.BCELoss()\n",
        "    optimizer = optim.SGD(model.parameters(), lr=0.01)\n",
        "\n",
        "    for epoch in range(10):  # Train for 10 epochs\n",
        "        model.train()\n",
        "        total_loss = 0\n",
        "        for data, targets in data_splits:\n",
        "            optimizer.zero_grad()\n",
        "            outputs = model(data).view(-1)\n",
        "            loss = criterion(outputs, targets.float())\n",
        "            loss.backward()\n",
        "            optimizer.step()\n",
        "            total_loss += loss.item()\n",
        "\n",
        "        print(f\"Epoch {epoch + 1}, Loss: {total_loss / len(data_splits)}\")\n",
        "\n",
        "    return model\n",
        "\n",
        "# Simulated hospital data\n",
        "data, targets = get_encrypted_hospital_data()\n",
        "data_splits = split_data(data, targets, n_workers=2)  # Splitting data among 2 workers\n",
        "\n",
        "# Initialize the model\n",
        "model = SimpleNN()\n",
        "\n",
        "# Train the model using federated learning\n",
        "trained_model = train_federated_model(data_splits, model)\n",
        "print(\"Federated Model Trained for Healthcare Insights\")"
      ]
    }
  ]
}
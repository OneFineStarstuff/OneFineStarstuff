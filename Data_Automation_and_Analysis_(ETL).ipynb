{
  "nbformat": 4,
  "nbformat_minor": 0,
  "metadata": {
    "colab": {
      "private_outputs": true,
      "provenance": [],
      "authorship_tag": "ABX9TyOC837AqiVHwnYq5XpmHEuO",
      "include_colab_link": true
    },
    "kernelspec": {
      "name": "python3",
      "display_name": "Python 3"
    },
    "language_info": {
      "name": "python"
    }
  },
  "cells": [
    {
      "cell_type": "markdown",
      "metadata": {
        "id": "view-in-github",
        "colab_type": "text"
      },
      "source": [
        "<a href=\"https://colab.research.google.com/github/OneFineStarstuff/OneFineStarstuff/blob/main/Data_Automation_and_Analysis_(ETL).ipynb\" target=\"_parent\"><img src=\"https://colab.research.google.com/assets/colab-badge.svg\" alt=\"Open In Colab\"/></a>"
      ]
    },
    {
      "cell_type": "code",
      "execution_count": null,
      "metadata": {
        "id": "p9jOBajBxCC5"
      },
      "outputs": [],
      "source": [
        "import pandas as pd\n",
        "import requests\n",
        "from sqlalchemy import create_engine\n",
        "import logging\n",
        "import os\n",
        "\n",
        "logging.basicConfig(level=logging.INFO)\n",
        "\n",
        "def extract_data(api_url):\n",
        "    try:\n",
        "        response = requests.get(api_url)\n",
        "        response.raise_for_status()\n",
        "        data = response.json()\n",
        "        return pd.DataFrame(data)\n",
        "    except requests.exceptions.RequestException as e:\n",
        "        raise ValueError(f\"API request failed: {e}\")\n",
        "    except ValueError as e:\n",
        "        raise ValueError(f\"Failed to parse JSON: {e}\")\n",
        "\n",
        "def validate_data(df):\n",
        "    if 'date' not in df.columns or 'value' not in df.columns:\n",
        "        raise ValueError(\"Dataframe must contain 'date' and 'value' columns.\")\n",
        "\n",
        "def transform_data(df, fill_value=0):\n",
        "    validate_data(df)\n",
        "    df['date'] = pd.to_datetime(df['date'], errors='coerce')\n",
        "    df['cleaned_value'] = df['value'].fillna(fill_value).astype(float)\n",
        "    return df[['date', 'cleaned_value']]\n",
        "\n",
        "def load_data(df, db_connection_string, table_name):\n",
        "    engine = create_engine(db_connection_string)\n",
        "    df.to_sql(table_name, con=engine, if_exists='append', index=False)\n",
        "\n",
        "def etl_pipeline(api_url, db_connection_string, table_name):\n",
        "    logging.info(\"Starting ETL pipeline\")\n",
        "    try:\n",
        "        df = extract_data(api_url)\n",
        "        df_transformed = transform_data(df)\n",
        "        load_data(df_transformed, db_connection_string, table_name)\n",
        "        logging.info(\"ETL pipeline completed successfully\")\n",
        "    except Exception as e:\n",
        "        logging.error(f\"ETL pipeline failed: {e}\")\n",
        "\n",
        "# Replace with your actual API URL and table name\n",
        "api_url = \"https://api.example.com/data\"\n",
        "db_connection_string = os.getenv(\"DB_CONNECTION_STRING\", \"sqlite:///my_database.db\")\n",
        "table_name = \"my_table\"\n",
        "\n",
        "etl_pipeline(api_url, db_connection_string, table_name)"
      ]
    }
  ]
}
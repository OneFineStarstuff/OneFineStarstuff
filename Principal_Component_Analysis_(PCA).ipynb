{
  "nbformat": 4,
  "nbformat_minor": 0,
  "metadata": {
    "colab": {
      "private_outputs": true,
      "provenance": [],
      "authorship_tag": "ABX9TyNQldpF794EpBKPHPiRhErf",
      "include_colab_link": true
    },
    "kernelspec": {
      "name": "python3",
      "display_name": "Python 3"
    },
    "language_info": {
      "name": "python"
    }
  },
  "cells": [
    {
      "cell_type": "markdown",
      "metadata": {
        "id": "view-in-github",
        "colab_type": "text"
      },
      "source": [
        "<a href=\"https://colab.research.google.com/github/OneFineStarstuff/OneFineStardust/blob/main/Principal_Component_Analysis_(PCA).ipynb\" target=\"_parent\"><img src=\"https://colab.research.google.com/assets/colab-badge.svg\" alt=\"Open In Colab\"/></a>"
      ]
    },
    {
      "cell_type": "code",
      "execution_count": null,
      "metadata": {
        "id": "cugcokId1eAT"
      },
      "outputs": [],
      "source": [
        "import numpy as np\n",
        "from sklearn.decomposition import PCA\n",
        "import matplotlib.pyplot as plt\n",
        "\n",
        "# Generate synthetic data with multiple features\n",
        "np.random.seed(0)\n",
        "data = np.random.rand(100, 5)  # 100 samples and 5 features\n",
        "\n",
        "# Apply PCA to reduce to two dimensions\n",
        "pca = PCA(n_components=2)\n",
        "reduced_data = pca.fit_transform(data)\n",
        "\n",
        "# Plot the PCA results\n",
        "plt.scatter(reduced_data[:, 0], reduced_data[:, 1])\n",
        "plt.title('PCA Result')\n",
        "plt.xlabel('Principal Component 1')\n",
        "plt.ylabel('Principal Component 2')\n",
        "plt.grid()\n",
        "plt.show()"
      ]
    }
  ]
}
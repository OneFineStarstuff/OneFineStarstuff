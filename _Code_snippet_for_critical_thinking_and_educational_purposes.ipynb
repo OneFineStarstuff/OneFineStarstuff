{
  "nbformat": 4,
  "nbformat_minor": 0,
  "metadata": {
    "colab": {
      "private_outputs": true,
      "provenance": [],
      "authorship_tag": "ABX9TyNOj+AJksp8utZ2K5sGWsIR",
      "include_colab_link": true
    },
    "kernelspec": {
      "name": "python3",
      "display_name": "Python 3"
    },
    "language_info": {
      "name": "python"
    }
  },
  "cells": [
    {
      "cell_type": "markdown",
      "metadata": {
        "id": "view-in-github",
        "colab_type": "text"
      },
      "source": [
        "<a href=\"https://colab.research.google.com/github/OneFineStarstuff/OneFineStarstuff/blob/main/_Code_snippet_for_critical_thinking_and_educational_purposes.ipynb\" target=\"_parent\"><img src=\"https://colab.research.google.com/assets/colab-badge.svg\" alt=\"Open In Colab\"/></a>"
      ]
    },
    {
      "cell_type": "code",
      "execution_count": null,
      "metadata": {
        "id": "P7Izv7yrsX62"
      },
      "outputs": [],
      "source": [
        "import random\n",
        "import csv\n",
        "\n",
        "# Step 1: Define Topics and Domains with Complexity Levels\n",
        "topics = {\n",
        "    \"Data Science\": {\n",
        "        \"beginner\": [\"basic data cleaning\", \"data visualization\"],\n",
        "        \"intermediate\": [\"model evaluation\", \"feature engineering\"],\n",
        "        \"advanced\": [\"ethics in data analysis\", \"anomaly detection\", \"model interpretability\", \"transfer learning\"]\n",
        "    },\n",
        "    \"AI and Machine Learning\": {\n",
        "        \"beginner\": [\"simple regression models\", \"classification basics\"],\n",
        "        \"intermediate\": [\"reinforcement learning\", \"neural networks\"],\n",
        "        \"advanced\": [\"ethics of decision-making\", \"explainable AI\", \"self-supervised learning\", \"privacy concerns\"]\n",
        "    },\n",
        "    \"Quantum Physics\": {\n",
        "        \"beginner\": [\"introduction to quantum states\", \"basic particle interactions\"],\n",
        "        \"intermediate\": [\"quantum entanglement\", \"quantum mechanics principles\"],\n",
        "        \"advanced\": [\"quantum computing\", \"quantum field theory\", \"Standard Model deviations\"]\n",
        "    }\n",
        "}\n",
        "\n",
        "# Step 2: Define Question Templates with Follow-Up\n",
        "question_templates = {\n",
        "    \"main\": [\n",
        "        \"What are the potential implications of advancements in {concept} within the field of {topic}?\",\n",
        "        \"How might new approaches to {concept} reshape our understanding of {topic}?\",\n",
        "        \"What are the ethical considerations in developing {concept} for {topic}, and how can they be addressed?\"\n",
        "    ],\n",
        "    \"follow_up\": [\n",
        "        \"What challenges might arise in implementing {concept} in real-world applications within {topic}?\",\n",
        "        \"How could advancements in {concept} potentially disrupt current practices in {topic}?\",\n",
        "        \"What are the interdisciplinary connections that could further enhance {concept} within {topic}?\"\n",
        "    ]\n",
        "}\n",
        "\n",
        "# Step 3: Generate Advanced Open-Ended Questions with Complexity and Follow-Up\n",
        "def generate_questions(topic_choice=\"Data Science\", complexity=\"advanced\", num_questions=5, with_follow_up=False):\n",
        "    questions = []\n",
        "    for _ in range(num_questions):\n",
        "        # Select topic and concept based on the chosen complexity level\n",
        "        concept = random.choice(topics[topic_choice][complexity])\n",
        "        # Randomly choose a main question template\n",
        "        main_template = random.choice(question_templates[\"main\"])\n",
        "        question = main_template.format(topic=topic_choice, concept=concept)\n",
        "\n",
        "        # If follow-up is requested, choose a follow-up question template\n",
        "        if with_follow_up:\n",
        "            follow_up_template = random.choice(question_templates[\"follow_up\"])\n",
        "            follow_up_question = follow_up_template.format(topic=topic_choice, concept=concept)\n",
        "            question += f\" Follow-up: {follow_up_question}\"\n",
        "\n",
        "        questions.append(question)\n",
        "    return questions\n",
        "\n",
        "# Step 4: Export Questions to CSV\n",
        "def export_questions_to_csv(questions, filename=\"advanced_questions.csv\"):\n",
        "    with open(filename, mode='w', newline='') as file:\n",
        "        writer = csv.writer(file)\n",
        "        writer.writerow([\"Question\"])\n",
        "        for question in questions:\n",
        "            writer.writerow([question])\n",
        "\n",
        "# Usage\n",
        "topic_choice = \"AI and Machine Learning\"\n",
        "complexity = \"advanced\"\n",
        "questions = generate_questions(topic_choice=topic_choice, complexity=complexity, num_questions=10, with_follow_up=True)\n",
        "export_questions_to_csv(questions)  # Export to CSV file\n",
        "\n",
        "# Display questions\n",
        "for i, question in enumerate(questions, start=1):\n",
        "    print(f\"{i}. {question}\")"
      ]
    }
  ]
}
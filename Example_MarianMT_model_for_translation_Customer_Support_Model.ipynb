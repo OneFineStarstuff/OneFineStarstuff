{
  "nbformat": 4,
  "nbformat_minor": 0,
  "metadata": {
    "colab": {
      "private_outputs": true,
      "provenance": [],
      "authorship_tag": "ABX9TyMYMAsKk/AlteNZ4OiJQ55X",
      "include_colab_link": true
    },
    "kernelspec": {
      "name": "python3",
      "display_name": "Python 3"
    },
    "language_info": {
      "name": "python"
    }
  },
  "cells": [
    {
      "cell_type": "markdown",
      "metadata": {
        "id": "view-in-github",
        "colab_type": "text"
      },
      "source": [
        "<a href=\"https://colab.research.google.com/github/OneFineStarstuff/OneFineStarstuff/blob/main/Example_MarianMT_model_for_translation_Customer_Support_Model.ipynb\" target=\"_parent\"><img src=\"https://colab.research.google.com/assets/colab-badge.svg\" alt=\"Open In Colab\"/></a>"
      ]
    },
    {
      "cell_type": "code",
      "execution_count": null,
      "metadata": {
        "id": "-zFVNDzdRUqS"
      },
      "outputs": [],
      "source": [
        "from transformers import MarianMTModel, MarianTokenizer\n",
        "\n",
        "# Load a pre-trained multilingual model and tokenizer\n",
        "model_name = 'Helsinki-NLP/opus-mt-en-fr'\n",
        "tokenizer = MarianTokenizer.from_pretrained(model_name)\n",
        "model = MarianMTModel.from_pretrained(model_name)\n",
        "\n",
        "# Example customer query\n",
        "customer_query = \"Comment puis-je modifier ma commande?\"  # Query in French\n",
        "\n",
        "# Translate the query to English\n",
        "inputs = tokenizer(customer_query, return_tensors=\"pt\")\n",
        "translated = model.generate(**inputs)\n",
        "translated_text = tokenizer.decode(translated[0], skip_special_tokens=True)\n",
        "\n",
        "print(\"Translated Query:\", translated_text)\n",
        "\n",
        "# Process the translated text with your support model (hypothetical step)\n",
        "response = \"You can modify your order by...\"  # Example response\n",
        "\n",
        "print(\"Customer Support Response:\", response)"
      ]
    }
  ]
}
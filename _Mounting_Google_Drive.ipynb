{
  "nbformat": 4,
  "nbformat_minor": 0,
  "metadata": {
    "colab": {
      "private_outputs": true,
      "provenance": [],
      "authorship_tag": "ABX9TyOWZ2sXnTjf/DTGnyAdCeax",
      "include_colab_link": true
    },
    "kernelspec": {
      "name": "python3",
      "display_name": "Python 3"
    },
    "language_info": {
      "name": "python"
    }
  },
  "cells": [
    {
      "cell_type": "markdown",
      "metadata": {
        "id": "view-in-github",
        "colab_type": "text"
      },
      "source": [
        "<a href=\"https://colab.research.google.com/github/OneFineStarstuff/OneFineStarstuff/blob/main/_Mounting_Google_Drive.ipynb\" target=\"_parent\"><img src=\"https://colab.research.google.com/assets/colab-badge.svg\" alt=\"Open In Colab\"/></a>"
      ]
    },
    {
      "cell_type": "code",
      "execution_count": null,
      "metadata": {
        "id": "LIKS2qpHae_W"
      },
      "outputs": [],
      "source": [
        "import os\n",
        "import shutil\n",
        "\n",
        "# --- Enhanced Google Drive Mounting ---\n",
        "def mount_google_drive(mountpoint='/content/drive'):\n",
        "    try:\n",
        "        from google.colab import drive\n",
        "\n",
        "        # Unmount if already mounted\n",
        "        if os.path.ismount(mountpoint):\n",
        "            print(\"Unmounting existing Google Drive...\")\n",
        "            drive._unmount()\n",
        "\n",
        "        # Clear the directory if it contains residual files\n",
        "        if os.path.exists(mountpoint):\n",
        "            print(f\"Clearing existing files in {mountpoint}...\")\n",
        "            shutil.rmtree(mountpoint)\n",
        "\n",
        "        # Mount Google Drive\n",
        "        print(\"Mounting Google Drive...\")\n",
        "        drive.mount(mountpoint, force_remount=True)\n",
        "        print(\"Google Drive mounted successfully.\")\n",
        "\n",
        "    except ModuleNotFoundError:\n",
        "        print(\"Not running in Google Colab. Skipping drive mount.\")\n",
        "    except Exception as e:\n",
        "        print(f\"An unexpected error occurred: {e}\")\n",
        "\n",
        "# Call the function to mount Google Drive\n",
        "mount_google_drive()"
      ]
    }
  ]
}
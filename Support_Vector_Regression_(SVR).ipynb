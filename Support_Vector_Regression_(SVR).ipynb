{
  "nbformat": 4,
  "nbformat_minor": 0,
  "metadata": {
    "colab": {
      "private_outputs": true,
      "provenance": [],
      "authorship_tag": "ABX9TyM3X59SBflLNdpij+LNGlZX",
      "include_colab_link": true
    },
    "kernelspec": {
      "name": "python3",
      "display_name": "Python 3"
    },
    "language_info": {
      "name": "python"
    }
  },
  "cells": [
    {
      "cell_type": "markdown",
      "metadata": {
        "id": "view-in-github",
        "colab_type": "text"
      },
      "source": [
        "<a href=\"https://colab.research.google.com/github/OneFineStarstuff/OneFineStardust/blob/main/Support_Vector_Regression_(SVR).ipynb\" target=\"_parent\"><img src=\"https://colab.research.google.com/assets/colab-badge.svg\" alt=\"Open In Colab\"/></a>"
      ]
    },
    {
      "cell_type": "code",
      "execution_count": null,
      "metadata": {
        "id": "Jxgj1NsQtFKG"
      },
      "outputs": [],
      "source": [
        "from sklearn import datasets\n",
        "from sklearn.svm import SVR\n",
        "import numpy as np\n",
        "import matplotlib.pyplot as plt\n",
        "\n",
        "# Load the California housing dataset (use only one feature for simplicity)\n",
        "housing = datasets.fetch_california_housing()\n",
        "X = housing.data[:, np.newaxis, 5]  # Use one feature as an example\n",
        "y = housing.target\n",
        "\n",
        "# Fit SVR model\n",
        "svr_model = SVR(kernel='rbf', C=100, gamma='scale', epsilon=.1)\n",
        "svr_model.fit(X, y)\n",
        "\n",
        "# Predict using the SVR model\n",
        "y_pred = svr_model.predict(X)\n",
        "\n",
        "# Plot the results\n",
        "plt.scatter(X, y, color='black', label='Data')\n",
        "plt.scatter(X, y_pred, color='red', label='SVR Predictions')\n",
        "plt.title('Support Vector Regression')\n",
        "plt.xlabel('Feature')\n",
        "plt.ylabel('House Price')\n",
        "plt.legend()\n",
        "plt.show()"
      ]
    }
  ]
}
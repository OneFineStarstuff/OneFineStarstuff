{
  "nbformat": 4,
  "nbformat_minor": 0,
  "metadata": {
    "colab": {
      "private_outputs": true,
      "provenance": [],
      "authorship_tag": "ABX9TyN5G8tT1AbFiufEGfopaynX",
      "include_colab_link": true
    },
    "kernelspec": {
      "name": "python3",
      "display_name": "Python 3"
    },
    "language_info": {
      "name": "python"
    }
  },
  "cells": [
    {
      "cell_type": "markdown",
      "metadata": {
        "id": "view-in-github",
        "colab_type": "text"
      },
      "source": [
        "<a href=\"https://colab.research.google.com/github/OneFineStarstuff/OneFineStarstuff/blob/main/_Technology_(Deep_Learning_CNN_Optimizations_and_Transfer_Learning).ipynb\" target=\"_parent\"><img src=\"https://colab.research.google.com/assets/colab-badge.svg\" alt=\"Open In Colab\"/></a>"
      ]
    },
    {
      "cell_type": "code",
      "source": [
        "import torch\n",
        "import torch.nn as nn\n",
        "import torch.optim as optim\n",
        "from torchvision import datasets, models, transforms\n",
        "from torch.optim.lr_scheduler import CosineAnnealingLR\n",
        "\n",
        "# Data augmentation with RandomErasing\n",
        "transform = transforms.Compose([\n",
        "    transforms.RandomResizedCrop(224),\n",
        "    transforms.RandomHorizontalFlip(),\n",
        "    transforms.ToTensor(),\n",
        "    transforms.Normalize((0.4914, 0.4822, 0.4465), (0.247, 0.243, 0.261)),\n",
        "    transforms.RandomErasing(p=0.5, scale=(0.02, 0.2), ratio=(0.3, 3.3))  # Random Erasing augmentation\n",
        "])\n",
        "\n",
        "train_data = datasets.CIFAR10(root='./data', train=True, transform=transform, download=True)\n",
        "train_loader = torch.utils.data.DataLoader(train_data, batch_size=32, shuffle=True)\n",
        "\n",
        "# Use a pre-trained model and replace the final layer\n",
        "model = models.resnet18(weights=models.ResNet18_Weights.IMAGENET1K_V1)\n",
        "model.fc = nn.Linear(model.fc.in_features, 10)  # Adjust for CIFAR-10's 10 classes\n",
        "\n",
        "# Move model to the appropriate device\n",
        "device = torch.device(\"cuda\" if torch.cuda.is_available() else \"cpu\")\n",
        "model.to(device)\n",
        "\n",
        "# Set up AdamW optimizer, CosineAnnealingLR, and CrossEntropyLoss\n",
        "optimizer = optim.AdamW(model.parameters(), lr=0.001)\n",
        "scheduler = CosineAnnealingLR(optimizer, T_max=10)  # Cosine Annealing over all epochs\n",
        "criterion = nn.CrossEntropyLoss()\n",
        "\n",
        "# Adjust GradScaler and autocast for CPU compatibility\n",
        "if device.type == \"cuda\":\n",
        "    from torch.cuda.amp import GradScaler, autocast\n",
        "    scaler = GradScaler(device_type=\"cuda\")  # Specify device for GradScaler\n",
        "else:\n",
        "    from torch.amp import GradScaler, autocast\n",
        "    scaler = GradScaler()  # Use default CPU scaler\n",
        "\n",
        "# Training settings\n",
        "num_epochs = 10\n",
        "accumulation_steps = 4  # For gradient accumulation\n",
        "\n",
        "# Training loop with mixed precision and gradient accumulation\n",
        "for epoch in range(num_epochs):\n",
        "    model.train()\n",
        "    running_loss = 0.0\n",
        "    correct = 0\n",
        "    total = 0\n",
        "\n",
        "    for i, (images, labels) in enumerate(train_loader):\n",
        "        images, labels = images.to(device), labels.to(device)\n",
        "        optimizer.zero_grad()\n",
        "\n",
        "        # Enable mixed precision with autocast\n",
        "        with autocast(device_type=device.type):\n",
        "            outputs = model(images)\n",
        "            loss = criterion(outputs, labels) / accumulation_steps  # Scale loss for accumulation\n",
        "        scaler.scale(loss).backward()  # Scale gradients\n",
        "\n",
        "        # Update weights after every `accumulation_steps` batches\n",
        "        if (i + 1) % accumulation_steps == 0:\n",
        "            scaler.step(optimizer)\n",
        "            scaler.update()\n",
        "            optimizer.zero_grad()  # Reset gradients\n",
        "\n",
        "        # Collect stats for monitoring progress\n",
        "        running_loss += loss.item() * accumulation_steps  # Scale back loss\n",
        "        _, predicted = torch.max(outputs, 1)\n",
        "        total += labels.size(0)\n",
        "        correct += (predicted == labels).sum().item()\n",
        "\n",
        "    scheduler.step()  # Adjust learning rate based on the scheduler\n",
        "    epoch_loss = running_loss / len(train_loader)\n",
        "    epoch_accuracy = 100 * correct / total\n",
        "    print(f\"Epoch [{epoch+1}/{num_epochs}], Loss: {epoch_loss:.4f}, Accuracy: {epoch_accuracy:.2f}%\")\n",
        "\n",
        "print(\"Training completed!\")"
      ],
      "metadata": {
        "id": "fYfqIRsVIgKn"
      },
      "execution_count": null,
      "outputs": []
    }
  ]
}